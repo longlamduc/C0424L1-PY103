{
 "cells": [
  {
   "cell_type": "markdown",
   "id": "bdada5c3",
   "metadata": {},
   "source": [
    "## Bài 1\n",
    "Viết chương trình nhập vào 2 số nguyên `num1` và `num2`. In ra tích của 2 số nguyên đó."
   ]
  },
  {
   "cell_type": "code",
   "execution_count": 2,
   "id": "a4efcb82",
   "metadata": {
    "scrolled": true
   },
   "outputs": [
    {
     "name": "stdout",
     "output_type": "stream",
     "text": [
      "Please enter num1: 10\n",
      "Please enter num2: 5\n",
      "10 * 5 = 50\n"
     ]
    }
   ],
   "source": [
    "num1 = int(input(\"Please enter num1: \"))\n",
    "num2 = int(input(\"Please enter num2: \"))\n",
    "\n",
    "result = num1 * num2\n",
    "\n",
    "print(f\"{num1} * {num2} = {result}\")"
   ]
  },
  {
   "cell_type": "markdown",
   "id": "214420d6",
   "metadata": {},
   "source": [
    "## Bài 2 \n",
    "Nhập vào ba biến `diem_toan`, `diem_ly`, `diem_hoa` và in ra điểm trung bình của ba môn học trên."
   ]
  },
  {
   "cell_type": "code",
   "execution_count": 4,
   "id": "a2729298",
   "metadata": {},
   "outputs": [
    {
     "name": "stdout",
     "output_type": "stream",
     "text": [
      "Nhập điểm toán: 6\n",
      "Nhập điểm lý: 7\n",
      "Nhập điểm hóa: 8\n",
      "Điểm trung bình là: 7.0\n"
     ]
    }
   ],
   "source": [
    "diem_toan = float(input(\"Nhập điểm toán: \"))\n",
    "diem_ly = float(input(\"Nhập điểm lý: \"))\n",
    "diem_hoa = float(input(\"Nhập điểm hóa: \"))\n",
    "\n",
    "diem_trung_binh = (diem_toan + diem_ly + diem_hoa) / 3\n",
    "\n",
    "print(f\"Điểm trung bình là: {diem_trung_binh}\")"
   ]
  },
  {
   "cell_type": "markdown",
   "id": "71afd97d",
   "metadata": {},
   "source": [
    "## Bài 3\n",
    "Nhập vào vận tốc của đoàn tàu theo đơn vị km/h.\n",
    "\n",
    "a. Hỏi trung bình mỗi phút đoàn tàu đi được bao nhiêu mét?\n",
    "\n",
    "b. Sau 1 giờ 12 phút đoàn tàu đi được bao nhiêu km?"
   ]
  },
  {
   "cell_type": "code",
   "execution_count": 8,
   "id": "2a474cc8",
   "metadata": {},
   "outputs": [
    {
     "name": "stdout",
     "output_type": "stream",
     "text": [
      "Nhập vận tốc đoàn tàu theo đơn vị km/h: 33\n",
      "Quãng đường tàu đi trong một phút: 550.0 m\n",
      "Quãng đường tàu đi sau 1h12m: 39.6 km\n"
     ]
    }
   ],
   "source": [
    "v_kmph = int(input(\"Nhập vận tốc đoàn tàu theo đơn vị km/h: \"))\n",
    "\n",
    "# a\n",
    "v_mpm = v_kmph * 1000 / 60\n",
    "print(f\"Quãng đường tàu đi trong một phút: {v_mpm} m\")\n",
    "\n",
    "# b\n",
    "s_72_min = v_kmph / 60 * 72\n",
    "print(f\"Quãng đường tàu đi sau 1h12m: {s_72_min} km\")"
   ]
  }
 ],
 "metadata": {
  "kernelspec": {
   "display_name": "Python 3 (ipykernel)",
   "language": "python",
   "name": "python3"
  },
  "language_info": {
   "codemirror_mode": {
    "name": "ipython",
    "version": 3
   },
   "file_extension": ".py",
   "mimetype": "text/x-python",
   "name": "python",
   "nbconvert_exporter": "python",
   "pygments_lexer": "ipython3",
   "version": "3.9.6"
  }
 },
 "nbformat": 4,
 "nbformat_minor": 5
}
